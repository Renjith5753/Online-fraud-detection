{
 "cells": [
  {
   "cell_type": "markdown",
   "id": "d468deaf",
   "metadata": {},
   "source": [
    "## Introduction"
   ]
  },
  {
   "cell_type": "markdown",
   "id": "07390e98",
   "metadata": {},
   "source": [
    "The objective of the assignment is to build a ML model that can predict the online transaction is fraudulent or not. The dataset is obtained from https://www.kaggle.com/datasets/rupakroy/online-payments-fraud-detection-dataset/code.\n",
    "\n",
    "The dataset has nine features and one traget prediction. There are two class labels 0 and 1. The 1 represents the fraudulent transactions and 0 represents the other.\n",
    "The features of the dataset are:\n",
    "\n",
    "1. step: represents a unit of time where 1 step equals 1 hour\n",
    "2. type: type of online transaction\n",
    "3. amount: the amount of the transaction\n",
    "4. nameOrig: customer starting the transaction\n",
    "5. oldbalanceOrg: balance before the transaction\n",
    "6. newbalanceOrig: balance after the transaction\n",
    "7. nameDest: recipient of the transaction\n",
    "8. oldbalanceDest: initial balance of recipient before the transaction\n",
    "9. newbalanceDest: the new balance of recipient after the transaction\n",
    " \n",
    "The feature 'isFlaggedFraud' is invalid and removed from the dataset during pre processing stage.\n",
    "Since it is a supervised learning binary class classifiaction problem here we used popular classification algorithms like:\n",
    "\n",
    "1. Logistic Regression\n",
    "2. K-Nearest Neighbors\n",
    "3. Decision Tree\n",
    "4. Support Vector Machine\n",
    "5. Random Forest\n",
    "6. XGBoost\n",
    "\n",
    "An ANN model is also created for prediction, it is explained in the deep learning section below.\n",
    "The major steps in the assignment are listed here, the explanation about them are given in their corresponding sections\n",
    "\n",
    "1. Loading dataset\n",
    "2. Feature Engineering:\n",
    "3. Count Frequency Encoding\n",
    "4. Balancing the Dataset\n",
    "5. EDA\n",
    "6. Feature selection\n",
    "7. Model creation\n",
    "8. Deep learning :ANN Model\n",
    "9. SMOTE\n",
    "10. ANN\n"
   ]
  },
  {
   "cell_type": "code",
   "execution_count": 2,
   "id": "798a6a07",
   "metadata": {},
   "outputs": [],
   "source": [
    "#importing the required libraries\n",
    "\n",
    "import pandas as pd\n",
    "import numpy as np\n",
    "import seaborn as sns\n",
    "\n",
    "import matplotlib.pyplot as plt\n",
    "from sklearn.preprocessing import StandardScaler\n",
    "from sklearn.model_selection import train_test_split\n",
    "from sklearn.ensemble import RandomForestClassifier\n",
    "from sklearn.metrics import accuracy_score,classification_report,confusion_matrix\n",
    "from sklearn.neighbors import KNeighborsClassifier\n",
    "from sklearn.tree import DecisionTreeClassifier\n",
    "from sklearn.linear_model import LogisticRegression\n",
    "from xgboost import XGBClassifier\n",
    "from sklearn.svm import SVC\n",
    "from imblearn.under_sampling import RandomUnderSampler\n",
    "from keras.layers.core.dense import Dense\n",
    "from imblearn.over_sampling import SMOTE\n",
    "\n",
    "\n",
    "import warnings\n",
    "warnings.filterwarnings(\"ignore\")\n",
    "\n"
   ]
  },
  {
   "cell_type": "markdown",
   "id": "5867a9e4",
   "metadata": {},
   "source": [
    "### Loading the dataset"
   ]
  },
  {
   "cell_type": "markdown",
   "id": "9a781a52",
   "metadata": {},
   "source": [
    "The dataset is big with 636362620 datapoints, and is uploaded from the PC Drive. Before moving forward with modeling we need to understand the dataset first. The Informantion about the dataset can be found in the following cells.\n",
    "\n",
    "Initial observations:\n",
    "\n",
    "There are no null or missing values in the data, but there are three catagorical features which are 'type', 'nameOrig' and 'nameDest'. The class labels are highly imbalanced. Here the majority class is not fraudulent with 6354407 datapoints and the minority is fraudulent transactions which has 8213 datapoints."
   ]
  },
  {
   "cell_type": "code",
   "execution_count": 3,
   "id": "38d8298d",
   "metadata": {},
   "outputs": [
    {
     "data": {
      "text/plain": [
       "(6362620, 11)"
      ]
     },
     "execution_count": 3,
     "metadata": {},
     "output_type": "execute_result"
    }
   ],
   "source": [
    "# loading the dataset\n",
    "\n",
    "dataset = pd.read_csv(r\"C:\\Users\\renji\\Downloads\\archive (2)\\PS_20174392719_1491204439457_log.csv\")\n",
    "dataset.shape"
   ]
  },
  {
   "cell_type": "code",
   "execution_count": 4,
   "id": "6e0d3611",
   "metadata": {},
   "outputs": [
    {
     "data": {
      "text/html": [
       "<div>\n",
       "<style scoped>\n",
       "    .dataframe tbody tr th:only-of-type {\n",
       "        vertical-align: middle;\n",
       "    }\n",
       "\n",
       "    .dataframe tbody tr th {\n",
       "        vertical-align: top;\n",
       "    }\n",
       "\n",
       "    .dataframe thead th {\n",
       "        text-align: right;\n",
       "    }\n",
       "</style>\n",
       "<table border=\"1\" class=\"dataframe\">\n",
       "  <thead>\n",
       "    <tr style=\"text-align: right;\">\n",
       "      <th></th>\n",
       "      <th>step</th>\n",
       "      <th>type</th>\n",
       "      <th>amount</th>\n",
       "      <th>nameOrig</th>\n",
       "      <th>oldbalanceOrg</th>\n",
       "      <th>newbalanceOrig</th>\n",
       "      <th>nameDest</th>\n",
       "      <th>oldbalanceDest</th>\n",
       "      <th>newbalanceDest</th>\n",
       "      <th>isFraud</th>\n",
       "      <th>isFlaggedFraud</th>\n",
       "    </tr>\n",
       "  </thead>\n",
       "  <tbody>\n",
       "    <tr>\n",
       "      <th>0</th>\n",
       "      <td>1</td>\n",
       "      <td>PAYMENT</td>\n",
       "      <td>9839.64</td>\n",
       "      <td>C1231006815</td>\n",
       "      <td>170136.0</td>\n",
       "      <td>160296.36</td>\n",
       "      <td>M1979787155</td>\n",
       "      <td>0.0</td>\n",
       "      <td>0.0</td>\n",
       "      <td>0</td>\n",
       "      <td>0</td>\n",
       "    </tr>\n",
       "    <tr>\n",
       "      <th>1</th>\n",
       "      <td>1</td>\n",
       "      <td>PAYMENT</td>\n",
       "      <td>1864.28</td>\n",
       "      <td>C1666544295</td>\n",
       "      <td>21249.0</td>\n",
       "      <td>19384.72</td>\n",
       "      <td>M2044282225</td>\n",
       "      <td>0.0</td>\n",
       "      <td>0.0</td>\n",
       "      <td>0</td>\n",
       "      <td>0</td>\n",
       "    </tr>\n",
       "    <tr>\n",
       "      <th>2</th>\n",
       "      <td>1</td>\n",
       "      <td>TRANSFER</td>\n",
       "      <td>181.00</td>\n",
       "      <td>C1305486145</td>\n",
       "      <td>181.0</td>\n",
       "      <td>0.00</td>\n",
       "      <td>C553264065</td>\n",
       "      <td>0.0</td>\n",
       "      <td>0.0</td>\n",
       "      <td>1</td>\n",
       "      <td>0</td>\n",
       "    </tr>\n",
       "    <tr>\n",
       "      <th>3</th>\n",
       "      <td>1</td>\n",
       "      <td>CASH_OUT</td>\n",
       "      <td>181.00</td>\n",
       "      <td>C840083671</td>\n",
       "      <td>181.0</td>\n",
       "      <td>0.00</td>\n",
       "      <td>C38997010</td>\n",
       "      <td>21182.0</td>\n",
       "      <td>0.0</td>\n",
       "      <td>1</td>\n",
       "      <td>0</td>\n",
       "    </tr>\n",
       "    <tr>\n",
       "      <th>4</th>\n",
       "      <td>1</td>\n",
       "      <td>PAYMENT</td>\n",
       "      <td>11668.14</td>\n",
       "      <td>C2048537720</td>\n",
       "      <td>41554.0</td>\n",
       "      <td>29885.86</td>\n",
       "      <td>M1230701703</td>\n",
       "      <td>0.0</td>\n",
       "      <td>0.0</td>\n",
       "      <td>0</td>\n",
       "      <td>0</td>\n",
       "    </tr>\n",
       "  </tbody>\n",
       "</table>\n",
       "</div>"
      ],
      "text/plain": [
       "   step      type    amount     nameOrig  oldbalanceOrg  newbalanceOrig  \\\n",
       "0     1   PAYMENT   9839.64  C1231006815       170136.0       160296.36   \n",
       "1     1   PAYMENT   1864.28  C1666544295        21249.0        19384.72   \n",
       "2     1  TRANSFER    181.00  C1305486145          181.0            0.00   \n",
       "3     1  CASH_OUT    181.00   C840083671          181.0            0.00   \n",
       "4     1   PAYMENT  11668.14  C2048537720        41554.0        29885.86   \n",
       "\n",
       "      nameDest  oldbalanceDest  newbalanceDest  isFraud  isFlaggedFraud  \n",
       "0  M1979787155             0.0             0.0        0               0  \n",
       "1  M2044282225             0.0             0.0        0               0  \n",
       "2   C553264065             0.0             0.0        1               0  \n",
       "3    C38997010         21182.0             0.0        1               0  \n",
       "4  M1230701703             0.0             0.0        0               0  "
      ]
     },
     "execution_count": 4,
     "metadata": {},
     "output_type": "execute_result"
    }
   ],
   "source": [
    "\n",
    "dataset.head()"
   ]
  },
  {
   "cell_type": "code",
   "execution_count": 5,
   "id": "088482fb",
   "metadata": {},
   "outputs": [
    {
     "name": "stdout",
     "output_type": "stream",
     "text": [
      "<class 'pandas.core.frame.DataFrame'>\n",
      "RangeIndex: 6362620 entries, 0 to 6362619\n",
      "Data columns (total 11 columns):\n",
      " #   Column          Dtype  \n",
      "---  ------          -----  \n",
      " 0   step            int64  \n",
      " 1   type            object \n",
      " 2   amount          float64\n",
      " 3   nameOrig        object \n",
      " 4   oldbalanceOrg   float64\n",
      " 5   newbalanceOrig  float64\n",
      " 6   nameDest        object \n",
      " 7   oldbalanceDest  float64\n",
      " 8   newbalanceDest  float64\n",
      " 9   isFraud         int64  \n",
      " 10  isFlaggedFraud  int64  \n",
      "dtypes: float64(5), int64(3), object(3)\n",
      "memory usage: 534.0+ MB\n"
     ]
    }
   ],
   "source": [
    "# checking for null values/ feature types etc\n",
    "\n",
    "dataset.info()"
   ]
  },
  {
   "cell_type": "code",
   "execution_count": 6,
   "id": "45d9ccd6",
   "metadata": {},
   "outputs": [
    {
     "data": {
      "text/plain": [
       "0    6354407\n",
       "1       8213\n",
       "Name: isFraud, dtype: int64"
      ]
     },
     "execution_count": 6,
     "metadata": {},
     "output_type": "execute_result"
    }
   ],
   "source": [
    "# checking the class count\n",
    "\n",
    "dataset['isFraud'].value_counts()"
   ]
  },
  {
   "cell_type": "code",
   "execution_count": 5,
   "id": "f0121f91",
   "metadata": {},
   "outputs": [
    {
     "data": {
      "text/plain": [
       "step              0\n",
       "type              0\n",
       "amount            0\n",
       "nameOrig          0\n",
       "oldbalanceOrg     0\n",
       "newbalanceOrig    0\n",
       "nameDest          0\n",
       "oldbalanceDest    0\n",
       "newbalanceDest    0\n",
       "isFraud           0\n",
       "isFlaggedFraud    0\n",
       "dtype: int64"
      ]
     },
     "execution_count": 5,
     "metadata": {},
     "output_type": "execute_result"
    }
   ],
   "source": [
    "# null values\n",
    "\n",
    "dataset.isnull().sum()"
   ]
  },
  {
   "cell_type": "markdown",
   "id": "29336e04",
   "metadata": {},
   "source": [
    "# Feature Engineering"
   ]
  },
  {
   "cell_type": "markdown",
   "id": "5b3b54a9",
   "metadata": {},
   "source": [
    "### Count Frequency Encoding"
   ]
  },
  {
   "cell_type": "markdown",
   "id": "f66505b5",
   "metadata": {},
   "source": [
    "The count frequency encoding is used to convert the catagorical values of the dataset, here the catagorical values are replaced by its frequency "
   ]
  },
  {
   "cell_type": "code",
   "execution_count": 8,
   "id": "60944087",
   "metadata": {},
   "outputs": [
    {
     "name": "stdout",
     "output_type": "stream",
     "text": [
      "type\n",
      "CASH_OUT    2237500\n",
      "PAYMENT     2151495\n",
      "CASH_IN     1399284\n",
      "TRANSFER     532909\n",
      "DEBIT         41432\n",
      "Name: type, dtype: int64\n",
      "\n",
      "\n",
      "nameOrig\n",
      "C1902386530    3\n",
      "C363736674     3\n",
      "C545315117     3\n",
      "C724452879     3\n",
      "C1784010646    3\n",
      "              ..\n",
      "C98968405      1\n",
      "C720209255     1\n",
      "C1567523029    1\n",
      "C644777639     1\n",
      "C1280323807    1\n",
      "Name: nameOrig, Length: 6353307, dtype: int64\n",
      "\n",
      "\n",
      "nameDest\n",
      "C1286084959    113\n",
      "C985934102     109\n",
      "C665576141     105\n",
      "C2083562754    102\n",
      "C248609774     101\n",
      "              ... \n",
      "M1470027725      1\n",
      "M1330329251      1\n",
      "M1784358659      1\n",
      "M2081431099      1\n",
      "C2080388513      1\n",
      "Name: nameDest, Length: 2722362, dtype: int64\n",
      "\n",
      "\n"
     ]
    }
   ],
   "source": [
    "# counting the values of the catagorical features / frequency of the catagory in each feature\n",
    "\n",
    "columns = ['type','nameOrig','nameDest']\n",
    "sample_dataset = dataset\n",
    "for col in columns:\n",
    "    print(col)\n",
    "    print(dataset[col].value_counts())\n",
    "    print('\\n')\n",
    "    frequency_count= dataset[col].value_counts().to_dict()\n",
    "    sample_dataset[col] = dataset[col].map(frequency_count)"
   ]
  },
  {
   "cell_type": "code",
   "execution_count": 9,
   "id": "6a5eb97c",
   "metadata": {},
   "outputs": [
    {
     "data": {
      "text/html": [
       "<div>\n",
       "<style scoped>\n",
       "    .dataframe tbody tr th:only-of-type {\n",
       "        vertical-align: middle;\n",
       "    }\n",
       "\n",
       "    .dataframe tbody tr th {\n",
       "        vertical-align: top;\n",
       "    }\n",
       "\n",
       "    .dataframe thead th {\n",
       "        text-align: right;\n",
       "    }\n",
       "</style>\n",
       "<table border=\"1\" class=\"dataframe\">\n",
       "  <thead>\n",
       "    <tr style=\"text-align: right;\">\n",
       "      <th></th>\n",
       "      <th>step</th>\n",
       "      <th>type</th>\n",
       "      <th>amount</th>\n",
       "      <th>nameOrig</th>\n",
       "      <th>oldbalanceOrg</th>\n",
       "      <th>newbalanceOrig</th>\n",
       "      <th>nameDest</th>\n",
       "      <th>oldbalanceDest</th>\n",
       "      <th>newbalanceDest</th>\n",
       "      <th>isFraud</th>\n",
       "      <th>isFlaggedFraud</th>\n",
       "    </tr>\n",
       "  </thead>\n",
       "  <tbody>\n",
       "    <tr>\n",
       "      <th>0</th>\n",
       "      <td>1</td>\n",
       "      <td>2151495</td>\n",
       "      <td>9839.64</td>\n",
       "      <td>1</td>\n",
       "      <td>170136.00</td>\n",
       "      <td>160296.36</td>\n",
       "      <td>1</td>\n",
       "      <td>0.00</td>\n",
       "      <td>0.00</td>\n",
       "      <td>0</td>\n",
       "      <td>0</td>\n",
       "    </tr>\n",
       "    <tr>\n",
       "      <th>1</th>\n",
       "      <td>1</td>\n",
       "      <td>2151495</td>\n",
       "      <td>1864.28</td>\n",
       "      <td>1</td>\n",
       "      <td>21249.00</td>\n",
       "      <td>19384.72</td>\n",
       "      <td>1</td>\n",
       "      <td>0.00</td>\n",
       "      <td>0.00</td>\n",
       "      <td>0</td>\n",
       "      <td>0</td>\n",
       "    </tr>\n",
       "    <tr>\n",
       "      <th>2</th>\n",
       "      <td>1</td>\n",
       "      <td>532909</td>\n",
       "      <td>181.00</td>\n",
       "      <td>1</td>\n",
       "      <td>181.00</td>\n",
       "      <td>0.00</td>\n",
       "      <td>44</td>\n",
       "      <td>0.00</td>\n",
       "      <td>0.00</td>\n",
       "      <td>1</td>\n",
       "      <td>0</td>\n",
       "    </tr>\n",
       "    <tr>\n",
       "      <th>3</th>\n",
       "      <td>1</td>\n",
       "      <td>2237500</td>\n",
       "      <td>181.00</td>\n",
       "      <td>1</td>\n",
       "      <td>181.00</td>\n",
       "      <td>0.00</td>\n",
       "      <td>41</td>\n",
       "      <td>21182.00</td>\n",
       "      <td>0.00</td>\n",
       "      <td>1</td>\n",
       "      <td>0</td>\n",
       "    </tr>\n",
       "    <tr>\n",
       "      <th>4</th>\n",
       "      <td>1</td>\n",
       "      <td>2151495</td>\n",
       "      <td>11668.14</td>\n",
       "      <td>1</td>\n",
       "      <td>41554.00</td>\n",
       "      <td>29885.86</td>\n",
       "      <td>1</td>\n",
       "      <td>0.00</td>\n",
       "      <td>0.00</td>\n",
       "      <td>0</td>\n",
       "      <td>0</td>\n",
       "    </tr>\n",
       "    <tr>\n",
       "      <th>...</th>\n",
       "      <td>...</td>\n",
       "      <td>...</td>\n",
       "      <td>...</td>\n",
       "      <td>...</td>\n",
       "      <td>...</td>\n",
       "      <td>...</td>\n",
       "      <td>...</td>\n",
       "      <td>...</td>\n",
       "      <td>...</td>\n",
       "      <td>...</td>\n",
       "      <td>...</td>\n",
       "    </tr>\n",
       "    <tr>\n",
       "      <th>6362615</th>\n",
       "      <td>743</td>\n",
       "      <td>2237500</td>\n",
       "      <td>339682.13</td>\n",
       "      <td>1</td>\n",
       "      <td>339682.13</td>\n",
       "      <td>0.00</td>\n",
       "      <td>2</td>\n",
       "      <td>0.00</td>\n",
       "      <td>339682.13</td>\n",
       "      <td>1</td>\n",
       "      <td>0</td>\n",
       "    </tr>\n",
       "    <tr>\n",
       "      <th>6362616</th>\n",
       "      <td>743</td>\n",
       "      <td>532909</td>\n",
       "      <td>6311409.28</td>\n",
       "      <td>1</td>\n",
       "      <td>6311409.28</td>\n",
       "      <td>0.00</td>\n",
       "      <td>1</td>\n",
       "      <td>0.00</td>\n",
       "      <td>0.00</td>\n",
       "      <td>1</td>\n",
       "      <td>0</td>\n",
       "    </tr>\n",
       "    <tr>\n",
       "      <th>6362617</th>\n",
       "      <td>743</td>\n",
       "      <td>2237500</td>\n",
       "      <td>6311409.28</td>\n",
       "      <td>1</td>\n",
       "      <td>6311409.28</td>\n",
       "      <td>0.00</td>\n",
       "      <td>3</td>\n",
       "      <td>68488.84</td>\n",
       "      <td>6379898.11</td>\n",
       "      <td>1</td>\n",
       "      <td>0</td>\n",
       "    </tr>\n",
       "    <tr>\n",
       "      <th>6362618</th>\n",
       "      <td>743</td>\n",
       "      <td>532909</td>\n",
       "      <td>850002.52</td>\n",
       "      <td>1</td>\n",
       "      <td>850002.52</td>\n",
       "      <td>0.00</td>\n",
       "      <td>1</td>\n",
       "      <td>0.00</td>\n",
       "      <td>0.00</td>\n",
       "      <td>1</td>\n",
       "      <td>0</td>\n",
       "    </tr>\n",
       "    <tr>\n",
       "      <th>6362619</th>\n",
       "      <td>743</td>\n",
       "      <td>2237500</td>\n",
       "      <td>850002.52</td>\n",
       "      <td>1</td>\n",
       "      <td>850002.52</td>\n",
       "      <td>0.00</td>\n",
       "      <td>28</td>\n",
       "      <td>6510099.11</td>\n",
       "      <td>7360101.63</td>\n",
       "      <td>1</td>\n",
       "      <td>0</td>\n",
       "    </tr>\n",
       "  </tbody>\n",
       "</table>\n",
       "<p>6362620 rows × 11 columns</p>\n",
       "</div>"
      ],
      "text/plain": [
       "         step     type      amount  nameOrig  oldbalanceOrg  newbalanceOrig  \\\n",
       "0           1  2151495     9839.64         1      170136.00       160296.36   \n",
       "1           1  2151495     1864.28         1       21249.00        19384.72   \n",
       "2           1   532909      181.00         1         181.00            0.00   \n",
       "3           1  2237500      181.00         1         181.00            0.00   \n",
       "4           1  2151495    11668.14         1       41554.00        29885.86   \n",
       "...       ...      ...         ...       ...            ...             ...   \n",
       "6362615   743  2237500   339682.13         1      339682.13            0.00   \n",
       "6362616   743   532909  6311409.28         1     6311409.28            0.00   \n",
       "6362617   743  2237500  6311409.28         1     6311409.28            0.00   \n",
       "6362618   743   532909   850002.52         1      850002.52            0.00   \n",
       "6362619   743  2237500   850002.52         1      850002.52            0.00   \n",
       "\n",
       "         nameDest  oldbalanceDest  newbalanceDest  isFraud  isFlaggedFraud  \n",
       "0               1            0.00            0.00        0               0  \n",
       "1               1            0.00            0.00        0               0  \n",
       "2              44            0.00            0.00        1               0  \n",
       "3              41        21182.00            0.00        1               0  \n",
       "4               1            0.00            0.00        0               0  \n",
       "...           ...             ...             ...      ...             ...  \n",
       "6362615         2            0.00       339682.13        1               0  \n",
       "6362616         1            0.00            0.00        1               0  \n",
       "6362617         3        68488.84      6379898.11        1               0  \n",
       "6362618         1            0.00            0.00        1               0  \n",
       "6362619        28      6510099.11      7360101.63        1               0  \n",
       "\n",
       "[6362620 rows x 11 columns]"
      ]
     },
     "execution_count": 9,
     "metadata": {},
     "output_type": "execute_result"
    }
   ],
   "source": [
    "# Dataset after encoding\n",
    "\n",
    "sample_dataset"
   ]
  },
  {
   "cell_type": "markdown",
   "id": "eb5f773e",
   "metadata": {},
   "source": [
    "### Balancing the Dataset"
   ]
  },
  {
   "cell_type": "markdown",
   "id": "80b1b67e",
   "metadata": {},
   "source": [
    "Since the dataset is highly imbalanced one, with only 0.1% in minority class an under sampling method is used to balance the dataset. In under sampling method the same no of data points from the majority class is randomly choosen in order to match with the minority class."
   ]
  },
  {
   "cell_type": "code",
   "execution_count": 10,
   "id": "c87d5ba8",
   "metadata": {},
   "outputs": [
    {
     "data": {
      "text/plain": [
       "([<matplotlib.patches.Wedge at 0x244c0fe6e20>,\n",
       "  <matplotlib.patches.Wedge at 0x244c0ffb4f0>],\n",
       " [Text(-1.099990955625572, 0.004460666087110192, 'Is Fraud'),\n",
       "  Text(1.0999909559371663, -0.004460589247970448, 'Not Fraud')],\n",
       " [Text(-0.5999950667048575, 0.002433090592969195, '99.9%'),\n",
       "  Text(0.599995066874818, -0.002433048680711153, '0.1%')])"
      ]
     },
     "execution_count": 10,
     "metadata": {},
     "output_type": "execute_result"
    },
    {
     "data": {
      "image/png": "[encoded data removed]",
      "text/plain": [
       "<Figure size 432x288 with 1 Axes>"
      ]
     },
     "metadata": {},
     "output_type": "display_data"
    }
   ],
   "source": [
    "# plotting the class distribution\n",
    "\n",
    "feature_names = ['Is Fraud','Not Fraud']\n",
    "feature_count = dataset['isFraud'].value_counts()\n",
    "plt.pie(feature_count,labels = feature_names,autopct='%1.1f%%')"
   ]
  },
  {
   "cell_type": "code",
   "execution_count": 12,
   "id": "9d5763f9",
   "metadata": {},
   "outputs": [],
   "source": [
    "#balancing the dataset Using RandomUnderSampler function\n",
    "\n",
    "X = sample_dataset.drop(['isFraud'],axis =1)\n",
    "y = sample_dataset['isFraud']\n",
    "rus = RandomUnderSampler(random_state=0)\n",
    "rus.fit(X, y)\n",
    "\n",
    "X_sampled,y_sampled =  rus.fit_resample(X, y)\n",
    "X_sampled = pd.DataFrame(X_sampled)\n",
    "y_sampled = pd.DataFrame(y_sampled)\n",
    "y_sampled = y_sampled.rename(columns = {0:'isFraud'})"
   ]
  },
  {
   "cell_type": "code",
   "execution_count": 14,
   "id": "e317f04d",
   "metadata": {},
   "outputs": [
    {
     "data": {
      "text/html": [
       "<div>\n",
       "<style scoped>\n",
       "    .dataframe tbody tr th:only-of-type {\n",
       "        vertical-align: middle;\n",
       "    }\n",
       "\n",
       "    .dataframe tbody tr th {\n",
       "        vertical-align: top;\n",
       "    }\n",
       "\n",
       "    .dataframe thead th {\n",
       "        text-align: right;\n",
       "    }\n",
       "</style>\n",
       "<table border=\"1\" class=\"dataframe\">\n",
       "  <thead>\n",
       "    <tr style=\"text-align: right;\">\n",
       "      <th></th>\n",
       "      <th>step</th>\n",
       "      <th>type</th>\n",
       "      <th>amount</th>\n",
       "      <th>nameOrig</th>\n",
       "      <th>oldbalanceOrg</th>\n",
       "      <th>newbalanceOrig</th>\n",
       "      <th>nameDest</th>\n",
       "      <th>oldbalanceDest</th>\n",
       "      <th>newbalanceDest</th>\n",
       "      <th>isFlaggedFraud</th>\n",
       "      <th>isFraud</th>\n",
       "    </tr>\n",
       "  </thead>\n",
       "  <tbody>\n",
       "    <tr>\n",
       "      <th>0</th>\n",
       "      <td>139</td>\n",
       "      <td>2237500</td>\n",
       "      <td>265803.35</td>\n",
       "      <td>1</td>\n",
       "      <td>0.00</td>\n",
       "      <td>0.00</td>\n",
       "      <td>27</td>\n",
       "      <td>751669.39</td>\n",
       "      <td>1017472.74</td>\n",
       "      <td>0</td>\n",
       "      <td>0</td>\n",
       "    </tr>\n",
       "    <tr>\n",
       "      <th>1</th>\n",
       "      <td>589</td>\n",
       "      <td>2237500</td>\n",
       "      <td>11278.28</td>\n",
       "      <td>1</td>\n",
       "      <td>0.00</td>\n",
       "      <td>0.00</td>\n",
       "      <td>3</td>\n",
       "      <td>220970.84</td>\n",
       "      <td>232249.12</td>\n",
       "      <td>0</td>\n",
       "      <td>0</td>\n",
       "    </tr>\n",
       "    <tr>\n",
       "      <th>2</th>\n",
       "      <td>284</td>\n",
       "      <td>2151495</td>\n",
       "      <td>16363.06</td>\n",
       "      <td>1</td>\n",
       "      <td>35966.16</td>\n",
       "      <td>19603.10</td>\n",
       "      <td>1</td>\n",
       "      <td>0.00</td>\n",
       "      <td>0.00</td>\n",
       "      <td>0</td>\n",
       "      <td>0</td>\n",
       "    </tr>\n",
       "    <tr>\n",
       "      <th>3</th>\n",
       "      <td>37</td>\n",
       "      <td>1399284</td>\n",
       "      <td>107223.31</td>\n",
       "      <td>1</td>\n",
       "      <td>20752629.71</td>\n",
       "      <td>20859853.02</td>\n",
       "      <td>35</td>\n",
       "      <td>804594.62</td>\n",
       "      <td>571711.22</td>\n",
       "      <td>0</td>\n",
       "      <td>0</td>\n",
       "    </tr>\n",
       "    <tr>\n",
       "      <th>4</th>\n",
       "      <td>287</td>\n",
       "      <td>2151495</td>\n",
       "      <td>3678.25</td>\n",
       "      <td>1</td>\n",
       "      <td>0.00</td>\n",
       "      <td>0.00</td>\n",
       "      <td>1</td>\n",
       "      <td>0.00</td>\n",
       "      <td>0.00</td>\n",
       "      <td>0</td>\n",
       "      <td>0</td>\n",
       "    </tr>\n",
       "    <tr>\n",
       "      <th>...</th>\n",
       "      <td>...</td>\n",
       "      <td>...</td>\n",
       "      <td>...</td>\n",
       "      <td>...</td>\n",
       "      <td>...</td>\n",
       "      <td>...</td>\n",
       "      <td>...</td>\n",
       "      <td>...</td>\n",
       "      <td>...</td>\n",
       "      <td>...</td>\n",
       "      <td>...</td>\n",
       "    </tr>\n",
       "    <tr>\n",
       "      <th>16421</th>\n",
       "      <td>743</td>\n",
       "      <td>2237500</td>\n",
       "      <td>339682.13</td>\n",
       "      <td>1</td>\n",
       "      <td>339682.13</td>\n",
       "      <td>0.00</td>\n",
       "      <td>2</td>\n",
       "      <td>0.00</td>\n",
       "      <td>339682.13</td>\n",
       "      <td>0</td>\n",
       "      <td>1</td>\n",
       "    </tr>\n",
       "    <tr>\n",
       "      <th>16422</th>\n",
       "      <td>743</td>\n",
       "      <td>532909</td>\n",
       "      <td>6311409.28</td>\n",
       "      <td>1</td>\n",
       "      <td>6311409.28</td>\n",
       "      <td>0.00</td>\n",
       "      <td>1</td>\n",
       "      <td>0.00</td>\n",
       "      <td>0.00</td>\n",
       "      <td>0</td>\n",
       "      <td>1</td>\n",
       "    </tr>\n",
       "    <tr>\n",
       "      <th>16423</th>\n",
       "      <td>743</td>\n",
       "      <td>2237500</td>\n",
       "      <td>6311409.28</td>\n",
       "      <td>1</td>\n",
       "      <td>6311409.28</td>\n",
       "      <td>0.00</td>\n",
       "      <td>3</td>\n",
       "      <td>68488.84</td>\n",
       "      <td>6379898.11</td>\n",
       "      <td>0</td>\n",
       "      <td>1</td>\n",
       "    </tr>\n",
       "    <tr>\n",
       "      <th>16424</th>\n",
       "      <td>743</td>\n",
       "      <td>532909</td>\n",
       "      <td>850002.52</td>\n",
       "      <td>1</td>\n",
       "      <td>850002.52</td>\n",
       "      <td>0.00</td>\n",
       "      <td>1</td>\n",
       "      <td>0.00</td>\n",
       "      <td>0.00</td>\n",
       "      <td>0</td>\n",
       "      <td>1</td>\n",
       "    </tr>\n",
       "    <tr>\n",
       "      <th>16425</th>\n",
       "      <td>743</td>\n",
       "      <td>2237500</td>\n",
       "      <td>850002.52</td>\n",
       "      <td>1</td>\n",
       "      <td>850002.52</td>\n",
       "      <td>0.00</td>\n",
       "      <td>28</td>\n",
       "      <td>6510099.11</td>\n",
       "      <td>7360101.63</td>\n",
       "      <td>0</td>\n",
       "      <td>1</td>\n",
       "    </tr>\n",
       "  </tbody>\n",
       "</table>\n",
       "<p>16426 rows × 11 columns</p>\n",
       "</div>"
      ],
      "text/plain": [
       "       step     type      amount  nameOrig  oldbalanceOrg  newbalanceOrig  \\\n",
       "0       139  2237500   265803.35         1           0.00            0.00   \n",
       "1       589  2237500    11278.28         1           0.00            0.00   \n",
       "2       284  2151495    16363.06         1       35966.16        19603.10   \n",
       "3        37  1399284   107223.31         1    20752629.71     20859853.02   \n",
       "4       287  2151495     3678.25         1           0.00            0.00   \n",
       "...     ...      ...         ...       ...            ...             ...   \n",
       "16421   743  2237500   339682.13         1      339682.13            0.00   \n",
       "16422   743   532909  6311409.28         1     6311409.28            0.00   \n",
       "16423   743  2237500  6311409.28         1     6311409.28            0.00   \n",
       "16424   743   532909   850002.52         1      850002.52            0.00   \n",
       "16425   743  2237500   850002.52         1      850002.52            0.00   \n",
       "\n",
       "       nameDest  oldbalanceDest  newbalanceDest  isFlaggedFraud  isFraud  \n",
       "0            27       751669.39      1017472.74               0        0  \n",
       "1             3       220970.84       232249.12               0        0  \n",
       "2             1            0.00            0.00               0        0  \n",
       "3            35       804594.62       571711.22               0        0  \n",
       "4             1            0.00            0.00               0        0  \n",
       "...         ...             ...             ...             ...      ...  \n",
       "16421         2            0.00       339682.13               0        1  \n",
       "16422         1            0.00            0.00               0        1  \n",
       "16423         3        68488.84      6379898.11               0        1  \n",
       "16424         1            0.00            0.00               0        1  \n",
       "16425        28      6510099.11      7360101.63               0        1  \n",
       "\n",
       "[16426 rows x 11 columns]"
      ]
     },
     "execution_count": 14,
     "metadata": {},
     "output_type": "execute_result"
    }
   ],
   "source": [
    "#concantinating both the dataframes\n",
    "\n",
    "dataset_new = pd.concat([X_sampled, y_sampled], axis=1)\n",
    "dataset_new"
   ]
  },
  {
   "cell_type": "code",
   "execution_count": 15,
   "id": "238d8c9c",
   "metadata": {},
   "outputs": [
    {
     "data": {
      "text/plain": [
       "0    8213\n",
       "1    8213\n",
       "Name: isFraud, dtype: int64"
      ]
     },
     "execution_count": 15,
     "metadata": {},
     "output_type": "execute_result"
    }
   ],
   "source": [
    "#checking the shape of the new dataset\n",
    "\n",
    "dataset_new['isFraud'].value_counts()"
   ]
  },
  {
   "cell_type": "code",
   "execution_count": 12,
   "id": "a7253474",
   "metadata": {},
   "outputs": [
    {
     "data": {
      "text/plain": [
       "([<matplotlib.patches.Wedge at 0x2c43c465d90>,\n",
       "  <matplotlib.patches.Wedge at 0x2c43c471550>],\n",
       " [Text(6.735557395310444e-17, 1.1, 'Is Fraud'),\n",
       "  Text(-2.0206672185931328e-16, -1.1, 'Not Fraud')],\n",
       " [Text(3.6739403974420595e-17, 0.6, '50.0%'),\n",
       "  Text(-1.1021821192326178e-16, -0.6, '50.0%')])"
      ]
     },
     "execution_count": 12,
     "metadata": {},
     "output_type": "execute_result"
    },
    {
     "data": {
      "image/png": "[encoded data removed]",
      "text/plain": [
       "<Figure size 432x288 with 1 Axes>"
      ]
     },
     "metadata": {},
     "output_type": "display_data"
    }
   ],
   "source": [
    "# Visualising the Final Class distribution:\n",
    "\n",
    "feature_names = ['Is Fraud','Not Fraud']\n",
    "feature_count = dataset_new['isFraud'].value_counts()\n",
    "plt.pie(feature_count,labels = feature_names,autopct='%1.1f%%')"
   ]
  },
  {
   "cell_type": "markdown",
   "id": "9b63c3e5",
   "metadata": {},
   "source": [
    "### EDA"
   ]
  },
  {
   "cell_type": "markdown",
   "id": "2411b8ec",
   "metadata": {},
   "source": [
    "Exploratory data analysis is done inorder to find out the feature trends and relatations with the target class labels. From the boxplot plotted for each features against class labels, it is clear that the value range for almost all the features are same and there are a lot of outliers/ noises in the data. In order to deal with the outliers we are only choosing the sample dataset for model creation.\n",
    "\n",
    "The correlation between the different features can be identified using the confusion matrix.There is a high correlation between oldbalancedest and newbalancedest also the namedest feature is correlated to the both with a value of 0.38."
   ]
  },
  {
   "cell_type": "code",
   "execution_count": 16,
   "id": "63ac24cd",
   "metadata": {},
   "outputs": [
    {
     "data": {
      "image/png": "[encoded data removed]",
      "text/plain": [
       "<Figure size 1296x1296 with 6 Axes>"
      ]
     },
     "metadata": {
      "needs_background": "light"
     },
     "output_type": "display_data"
    }
   ],
   "source": [
    "# plotting box plot\n",
    "\n",
    "col = [ 'amount', 'nameOrig', 'oldbalanceOrg', 'newbalanceOrig',\n",
    "        'oldbalanceDest', 'newbalanceDest']\n",
    "\n",
    "X_data = dataset.drop(['isFraud'], axis=1)\n",
    "y_data = dataset['isFraud']\n",
    "plt.figure(figsize = (18,18))\n",
    "for i,data in enumerate(col):\n",
    "    plt.subplot(3,3,i+1)\n",
    "    sns.boxplot(data = X_data,y =X_data[data],x = y_data)\n",
    "    plt.title(data)\n",
    "plt.tight_layout()\n",
    "plt.show()"
   ]
  },
  {
   "cell_type": "code",
   "execution_count": 16,
   "id": "437fdc64",
   "metadata": {},
   "outputs": [
    {
     "data": {
      "image/png": "[encoded data removed]",
      "text/plain": [
       "<Figure size 2160x1440 with 2 Axes>"
      ]
     },
     "metadata": {
      "needs_background": "light"
     },
     "output_type": "display_data"
    }
   ],
   "source": [
    "#creating a correlation matrix\n",
    "\n",
    "plt.figure(figsize=(30,20))\n",
    "sns.heatmap(dataset.corr(),annot = True,cmap ='OrRd')\n",
    "plt.show()"
   ]
  },
  {
   "cell_type": "markdown",
   "id": "d2af447f",
   "metadata": {},
   "source": [
    "###  Feature Selection"
   ]
  },
  {
   "cell_type": "markdown",
   "id": "deaa9fc3",
   "metadata": {},
   "source": [
    "Eventhough the no of features is comparitivily low in the dataset, all the features maynot contribute in predicting the output class. In order to find out the weightage of each feature we are using the statistical method called pearson coefficient also known as Pearson's r. It measure the linear correlatin between two sets of data and the value of the pearsonr is in between 1 to -1.\n",
    "\n",
    "While analysing the values the features 'newbalanceDest','nameOrig' and 'oldbalanceDest' has negligible values ,and removed from the dataset from the next step. Only the 'amount' feature has positive correlation and all others have a negative correlation "
   ]
  },
  {
   "cell_type": "code",
   "execution_count": 19,
   "id": "0f05f5ab",
   "metadata": {},
   "outputs": [
    {
     "name": "stdout",
     "output_type": "stream",
     "text": [
      "step  :  (0.3184760683047988, 0.0)\n",
      "type  :  (-0.3187877553382862, 0.0)\n",
      "amount  :  (0.3482763982530742, 0.0)\n",
      "nameOrig  :  (-0.0010352649191461235, 0.8944515325365938)\n",
      "oldbalanceOrg  :  (0.12438725309345078, 1.2189762491939608e-57)\n",
      "newbalanceOrig  :  (-0.1344269421416572, 4.2402953049046006e-67)\n",
      "nameDest  :  (-0.14174525321341808, 1.8036264182395742e-74)\n",
      "oldbalanceDest  :  (-0.0725636324358301, 1.2590787272183153e-20)\n",
      "newbalanceDest  :  (-0.0012630468335892142, 0.8714123021719795)\n",
      "isFlaggedFraud  :  (0.031225233940085067, 6.264462761076332e-05)\n"
     ]
    }
   ],
   "source": [
    "# calculating the pearson coefficent for feature selection\n",
    "\n",
    "from scipy.stats import pearsonr\n",
    "\n",
    "x_stat = dataset_new.drop(['isFraud'], axis =1)\n",
    "\n",
    "\n",
    "for colm in x_stat:\n",
    "    p = pearsonr(x_stat[colm],dataset_new['isFraud'])\n",
    "    print(colm, ' : ',p)"
   ]
  },
  {
   "cell_type": "markdown",
   "id": "35c4d1a5",
   "metadata": {},
   "source": [
    "### Model Creation"
   ]
  },
  {
   "cell_type": "markdown",
   "id": "9ff6a79a",
   "metadata": {},
   "source": [
    "The dataset is split into training and testing in a 80:20 ratio and for standardising the feature values the StandardScaler function is used. It Standardize features by removing the mean and scaling to unit variance. After scaling, the data is fed into the classifiers. Along with the classifiction algorithms we are using the ensemble models like randomforest and XGBoost. The performance of the models are evaluated using the score metrics. The K-Nearest Neighbors shows the highest accuracy of 91.66% followed by SVM and logistic regression.\n",
    "\n",
    "The accuracy score, precision and recall values of the K-Nearest Neighbor classifier is displayed using classification_report function. Finally a confusion matrix is shown to understand the classifiaction performence. The FN and FP values are comparatively low for K-Nearest Neighbor classifier. "
   ]
  },
  {
   "cell_type": "code",
   "execution_count": 18,
   "id": "e41f3fa2",
   "metadata": {},
   "outputs": [],
   "source": [
    "# spliting the dataset into training and testing data\n",
    "\n",
    "X = dataset_new.drop(['isFraud','isFlaggedFraud','newbalanceDest','nameOrig','oldbalanceDest'],axis =1)\n",
    "y = dataset_new['isFraud']\n",
    "\n",
    "X_train,X_test,y_train,y_test = train_test_split(X,y,test_size =0.2,random_state = 42)\n",
    "\n",
    "# scaling the data\n",
    "\n",
    "scaler = StandardScaler()\n",
    "X_train_scaled=scaler.fit_transform(X_train)\n",
    "X_test_scaled=scaler.fit_transform(X_test)"
   ]
  },
  {
   "cell_type": "code",
   "execution_count": 20,
   "id": "84178a45",
   "metadata": {},
   "outputs": [
    {
     "name": "stdout",
     "output_type": "stream",
     "text": [
      "Test Score\n",
      "                   Logistic Regression  :  : 90.38%\n",
      "                   K-Nearest Neighbors  :  : 91.66%\n",
      "                         Decision Tree  :  : 73.83%\n",
      "               Support Vector Machine   :  : 91.27%\n",
      "                         Random Forest  :  : 70.12%\n",
      "                               XGBoost  :  : 68.35%\n"
     ]
    }
   ],
   "source": [
    "models =  {\n",
    "    \"                   Logistic Regression\": LogisticRegression(),\n",
    "    \"                   K-Nearest Neighbors\": KNeighborsClassifier(),\n",
    "    \"                         Decision Tree\": DecisionTreeClassifier(),\n",
    "    \"               Support Vector Machine \": SVC(),\n",
    "    \"                         Random Forest\": RandomForestClassifier(),                    \n",
    "    \"                               XGBoost\": XGBClassifier(eval_metric='mlogloss')\n",
    "}\n",
    "\n",
    "for clsfr,clsfr_fun in models.items():\n",
    "    clsfr_fun.fit(X_train_scaled,y_train)\n",
    "\n",
    "# Evaluating the model\n",
    "\n",
    "print('Test Score')\n",
    "for clsfr,clsfr_fun in models.items():\n",
    "    score = clsfr_fun.score(X_test_scaled,y_test)\n",
    "    per_score =  (\": {:.2f}%\". format(score*100))\n",
    "    print(clsfr, ' : ' ,(per_score))"
   ]
  },
  {
   "cell_type": "code",
   "execution_count": 21,
   "id": "ca3b4dfc",
   "metadata": {},
   "outputs": [
    {
     "name": "stdout",
     "output_type": "stream",
     "text": [
      "Test Score\n",
      "0.91661594643944  :  : 91.66%\n",
      "Classification Report for KNeighborsClassifier :  \n",
      "\n",
      "              precision    recall  f1-score   support\n",
      "\n",
      "           0       0.92      0.92      0.92      1649\n",
      "           1       0.92      0.92      0.92      1637\n",
      "\n",
      "    accuracy                           0.92      3286\n",
      "   macro avg       0.92      0.92      0.92      3286\n",
      "weighted avg       0.92      0.92      0.92      3286\n",
      "\n"
     ]
    }
   ],
   "source": [
    "#Classification report for KNeighborsClassifier\n",
    "\n",
    "# Spliting the dataset into traing and testing data\n",
    "\n",
    "X_train1,X_test1,y_train1,y_test1 =train_test_split(X,y,test_size = 0.2,random_state = 42)\n",
    "\n",
    "# scaling the independent variables\n",
    "scalar = StandardScaler()\n",
    "\n",
    "#scaling the testing and training dataset\n",
    "scalar.fit(X_train1)\n",
    "X_train_scaled1 = pd.DataFrame(scalar.transform(X_train1))\n",
    "scalar.fit(X_test1)\n",
    "X_test_scaled1 = pd.DataFrame(scalar.transform(X_test1))\n",
    "\n",
    "print('Test Score')\n",
    "\n",
    "model = KNeighborsClassifier()\n",
    "model.fit(X_train_scaled1,y_train1)\n",
    "prediction1 = model.predict(X_test_scaled1)\n",
    "\n",
    "score1 = model.score(X_test_scaled1,y_test1)\n",
    "per_score1 =  (\": {:.2f}%\". format(score1*100))\n",
    "print(score1, ' : ' ,(per_score1))\n",
    "    \n",
    "print('Classification Report for KNeighborsClassifier : ','\\n')\n",
    "print(classification_report(y_test1,prediction1))"
   ]
  },
  {
   "cell_type": "code",
   "execution_count": 22,
   "id": "55468253",
   "metadata": {},
   "outputs": [
    {
     "data": {
      "image/png": "[encoded data removed]",
      "text/plain": [
       "<Figure size 432x288 with 2 Axes>"
      ]
     },
     "metadata": {
      "needs_background": "light"
     },
     "output_type": "display_data"
    }
   ],
   "source": [
    "#confusion matrix\n",
    "\n",
    "con_matrix = confusion_matrix(y_test1,prediction1)\n",
    "plt.figure(figsize=(6,4))\n",
    "sns.heatmap((con_matrix/np.sum(con_matrix))*100,annot = True,cmap =\"OrRd\")\n",
    "plt.show()"
   ]
  },
  {
   "cell_type": "markdown",
   "id": "b0bc7366",
   "metadata": {},
   "source": [
    "## Deep Learning: ANN Model"
   ]
  },
  {
   "cell_type": "markdown",
   "id": "214d3a96",
   "metadata": {},
   "source": [
    " In the last time we have used the undersampling method for balancing the dataset, but here we are using the oversampling method called smote. Since the dataset is large after oversampling we have created a sample dataset for the convenience of computational easiness.\n",
    " \n",
    " A simple ANN model is created for classification. The model used here is a sequential model with one input and output layers with 3 hidden layers. Since this is a binary classification problem the activation function used here is sigmoid and instead of  classical stochastic gradient descent the optimizer used here is adam, which is also called as adaptive momemt estimation. The cross function applied here is binary cross entropy with a validation split of 0.2.\n",
    " \n",
    "The model is trained for 20 epochs and with a batch size of 10, a learning curve is created at the end to understand the performance of the ANN model."
   ]
  },
  {
   "cell_type": "code",
   "execution_count": 60,
   "id": "a36a5bfd",
   "metadata": {},
   "outputs": [],
   "source": [
    "#importing the libraries\n",
    "\n",
    "from keras import layers\n",
    "import tensorflow as tf\n",
    "from keras.models import Sequential "
   ]
  },
  {
   "cell_type": "markdown",
   "id": "eae507cb",
   "metadata": {},
   "source": [
    "### SMOTE"
   ]
  },
  {
   "cell_type": "markdown",
   "id": "06e84403",
   "metadata": {},
   "source": [
    "SMOTE stands for Synthetic Minority Oversampling Technique which is used in imbalanced dataset.\n",
    "First a data point is selected from the minority class and find the nearest neighbours, a datapoint in then created by selecting one of the nearest neighbours in random and drawing a straight line between the two points in feature space."
   ]
  },
  {
   "cell_type": "code",
   "execution_count": 161,
   "id": "4af65536",
   "metadata": {},
   "outputs": [
    {
     "data": {
      "text/plain": [
       "0    6354407\n",
       "1    6354407\n",
       "Name: isFraud, dtype: int64"
      ]
     },
     "execution_count": 161,
     "metadata": {},
     "output_type": "execute_result"
    }
   ],
   "source": [
    "# over sampling using smote function\n",
    "\n",
    "smote = SMOTE()\n",
    "X_ann = sample_dataset.drop(['isFraud'],axis =1)\n",
    "y_ann = sample_dataset['isFraud']\n",
    "X_smote,y_smote =  smote.fit_resample(X_ann, y_ann)\n",
    "X_smote = pd.DataFrame(X_smote)\n",
    "y_smote = pd.DataFrame(y_smote)\n",
    "y_smote = y_smote.rename(columns = {0:'isFraud'})\n",
    "\n",
    "dataset_smote = pd.concat([X_smote, y_smote], axis=1)\n",
    "dataset_smote['isFraud'].value_counts()"
   ]
  },
  {
   "cell_type": "code",
   "execution_count": null,
   "id": "55ac9787",
   "metadata": {},
   "outputs": [],
   "source": [
    "#sampling the dataset\n",
    "\n",
    "dataset_ann = dataset_smote.sample(n= 50000)\n",
    "dataset_ann['isFraud'].value_counts()"
   ]
  },
  {
   "cell_type": "code",
   "execution_count": null,
   "id": "21d74b1f",
   "metadata": {},
   "outputs": [],
   "source": [
    "# test train split\n",
    "\n",
    "X_ann = dataset_ann.drop(['isFraud','isFlaggedFraud'],axis =1)\n",
    "y_ann = dataset_ann['isFraud']\n",
    "\n",
    "X_train2,X_test2,y_train2,y_test2 = train_test_split(X_ann,y_ann,test_size =0.2,random_state = 42)"
   ]
  },
  {
   "cell_type": "code",
   "execution_count": 156,
   "id": "42922e8d",
   "metadata": {},
   "outputs": [],
   "source": [
    "\n",
    "# creating the model\n",
    "\n",
    "model = Sequential()\n",
    "model.add(layers.Dense (32,activation = 'sigmoid',input_dim = X_train2.shape[1]))\n",
    "model.add(layers.Dense(64,activation = 'sigmoid'))\n",
    "model.add(layers.Dense(64,activation = 'sigmoid'))\n",
    "model.add(layers.Dense(16,activation = 'sigmoid'))\n",
    "model.add(layers.Dense(1,activation = 'sigmoid'))\n"
   ]
  },
  {
   "cell_type": "code",
   "execution_count": 157,
   "id": "8b734397",
   "metadata": {},
   "outputs": [],
   "source": [
    "#compiling the model\n",
    "\n",
    "model.compile(optimizer ='adam',loss = 'BinaryCrossentropy',metrics=['BinaryAccuracy'])"
   ]
  },
  {
   "cell_type": "code",
   "execution_count": 159,
   "id": "dc1f42b2",
   "metadata": {},
   "outputs": [
    {
     "name": "stdout",
     "output_type": "stream",
     "text": [
      "Epoch 1/20\n",
      "3200/3200 - 2s - loss: 0.3459 - binary_accuracy: 0.8328 - val_loss: 0.3504 - val_binary_accuracy: 0.8345 - 2s/epoch - 579us/step\n",
      "Epoch 2/20\n",
      "3200/3200 - 2s - loss: 0.3457 - binary_accuracy: 0.8329 - val_loss: 0.3502 - val_binary_accuracy: 0.8344 - 2s/epoch - 645us/step\n",
      "Epoch 3/20\n",
      "3200/3200 - 2s - loss: 0.3457 - binary_accuracy: 0.8335 - val_loss: 0.3516 - val_binary_accuracy: 0.8344 - 2s/epoch - 754us/step\n",
      "Epoch 4/20\n",
      "3200/3200 - 3s - loss: 0.3394 - binary_accuracy: 0.8388 - val_loss: 0.3251 - val_binary_accuracy: 0.8572 - 3s/epoch - 797us/step\n",
      "Epoch 5/20\n",
      "3200/3200 - 2s - loss: 0.3382 - binary_accuracy: 0.8407 - val_loss: 0.3455 - val_binary_accuracy: 0.8378 - 2s/epoch - 727us/step\n",
      "Epoch 6/20\n",
      "3200/3200 - 2s - loss: 0.3402 - binary_accuracy: 0.8378 - val_loss: 0.3465 - val_binary_accuracy: 0.8379 - 2s/epoch - 734us/step\n",
      "Epoch 7/20\n",
      "3200/3200 - 2s - loss: 0.3403 - binary_accuracy: 0.8380 - val_loss: 0.3452 - val_binary_accuracy: 0.8386 - 2s/epoch - 768us/step\n",
      "Epoch 8/20\n",
      "3200/3200 - 3s - loss: 0.3396 - binary_accuracy: 0.8388 - val_loss: 0.3461 - val_binary_accuracy: 0.8380 - 3s/epoch - 812us/step\n",
      "Epoch 9/20\n",
      "3200/3200 - 3s - loss: 0.3396 - binary_accuracy: 0.8385 - val_loss: 0.3451 - val_binary_accuracy: 0.8385 - 3s/epoch - 784us/step\n",
      "Epoch 10/20\n",
      "3200/3200 - 2s - loss: 0.3392 - binary_accuracy: 0.8392 - val_loss: 0.3454 - val_binary_accuracy: 0.8386 - 2s/epoch - 728us/step\n",
      "Epoch 11/20\n",
      "3200/3200 - 2s - loss: 0.3391 - binary_accuracy: 0.8392 - val_loss: 0.3480 - val_binary_accuracy: 0.8384 - 2s/epoch - 732us/step\n",
      "Epoch 12/20\n",
      "3200/3200 - 2s - loss: 0.3389 - binary_accuracy: 0.8390 - val_loss: 0.3452 - val_binary_accuracy: 0.8386 - 2s/epoch - 766us/step\n",
      "Epoch 13/20\n",
      "3200/3200 - 3s - loss: 0.3382 - binary_accuracy: 0.8395 - val_loss: 0.3455 - val_binary_accuracy: 0.8386 - 3s/epoch - 820us/step\n",
      "Epoch 14/20\n",
      "3200/3200 - 2s - loss: 0.3381 - binary_accuracy: 0.8393 - val_loss: 0.3451 - val_binary_accuracy: 0.8388 - 2s/epoch - 751us/step\n",
      "Epoch 15/20\n",
      "3200/3200 - 2s - loss: 0.3381 - binary_accuracy: 0.8393 - val_loss: 0.3439 - val_binary_accuracy: 0.8386 - 2s/epoch - 727us/step\n",
      "Epoch 16/20\n",
      "3200/3200 - 3s - loss: 0.3381 - binary_accuracy: 0.8397 - val_loss: 0.3443 - val_binary_accuracy: 0.8391 - 3s/epoch - 786us/step\n",
      "Epoch 17/20\n",
      "3200/3200 - 2s - loss: 0.3378 - binary_accuracy: 0.8396 - val_loss: 0.3462 - val_binary_accuracy: 0.8371 - 2s/epoch - 748us/step\n",
      "Epoch 18/20\n",
      "3200/3200 - 2s - loss: 0.3378 - binary_accuracy: 0.8394 - val_loss: 0.3467 - val_binary_accuracy: 0.8386 - 2s/epoch - 767us/step\n",
      "Epoch 19/20\n",
      "3200/3200 - 2s - loss: 0.3379 - binary_accuracy: 0.8392 - val_loss: 0.3444 - val_binary_accuracy: 0.8391 - 2s/epoch - 751us/step\n",
      "Epoch 20/20\n",
      "3200/3200 - 2s - loss: 0.3377 - binary_accuracy: 0.8393 - val_loss: 0.3454 - val_binary_accuracy: 0.8390 - 2s/epoch - 755us/step\n"
     ]
    }
   ],
   "source": [
    "#Fitting the model\n",
    "\n",
    "Ann_model=model.fit(X_train2,y_train2,epochs = 20,batch_size= 10,verbose= 2,validation_split = 0.2)"
   ]
  },
  {
   "cell_type": "code",
   "execution_count": 160,
   "id": "f7ed2aec",
   "metadata": {},
   "outputs": [
    {
     "data": {
      "image/png": "[encoded data removed]",
      "text/plain": [
       "<Figure size 432x288 with 1 Axes>"
      ]
     },
     "metadata": {
      "needs_background": "light"
     },
     "output_type": "display_data"
    }
   ],
   "source": [
    "#learning curve\n",
    "\n",
    "plt.title('learning curve')\n",
    "plt.xlabel('epoch')\n",
    "plt.ylabel('BinaryCrossentropy')\n",
    "plt.plot(a.history['loss'],label = 'train')\n",
    "plt.plot(a.history['val_loss'],label= 'validation')\n",
    "plt.legend()\n",
    "plt.show()"
   ]
  },
  {
   "cell_type": "markdown",
   "id": "81e074fb",
   "metadata": {},
   "source": [
    "## Results and Conclusions"
   ]
  },
  {
   "cell_type": "markdown",
   "id": "6c3f8d12",
   "metadata": {},
   "source": [
    "The aim of the assignment was to build a machine learning model that can classify wheather the online transaction is fraudulent or not, we have used both Classification algorithms and Deep learning models.  The K-Nearest Neighbors shows the highest accuracy of 91.66% followed by SVM and logistic regression.The maximum accuracy we got for the deep learning model is 84%. The decrease in accuracy is due to the imbalance in the dataset, even if we tries different methods like smote and undersampling due to the computaional/ run time complexity we are only working on a small subset of the main dataset. During the run time, we can see that the validation loss is slighty increasing and the accuracy is reducing, which may due to the underfitting of the model. In order to compensate with that an extra hidden layer with 64 neurons were added to the model.\n",
    "\n",
    "As a suggesion it is better to add more data points in fraudulent class, so that the model train  on the two classes equally and give a better prediction.\n"
   ]
  }
 ],
 "metadata": {
  "kernelspec": {
   "display_name": "Python 3 (ipykernel)",
   "language": "python",
   "name": "python3"
  },
  "language_info": {
   "codemirror_mode": {
    "name": "ipython",
    "version": 3
   },
   "file_extension": ".py",
   "mimetype": "text/x-python",
   "name": "python",
   "nbconvert_exporter": "python",
   "pygments_lexer": "ipython3",
   "version": "3.9.7"
  }
 },
 "nbformat": 4,
 "nbformat_minor": 5
}
